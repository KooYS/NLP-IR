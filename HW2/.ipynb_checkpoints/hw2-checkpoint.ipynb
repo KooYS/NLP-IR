{
 "cells": [
  {
   "cell_type": "markdown",
   "metadata": {},
   "source": [
    "# HW2\n",
    "***"
   ]
  },
  {
   "cell_type": "markdown",
   "metadata": {},
   "source": [
    "---\n",
    "### 필요 모듈 정의"
   ]
  },
  {
   "cell_type": "code",
   "execution_count": 1,
   "metadata": {
    "collapsed": true
   },
   "outputs": [],
   "source": [
    "from collections import defaultdict # 데이터를 담을 dictionary를 만들어줄 모듈\n",
    "import math                         # 수학적 함수 사용을 위한 모듈\n",
    "import sys                          # 로컬 file을 읽어올 함수\n",
    "from functools import reduce        # 재귀적 함수 기능을 구현해주는 모듈\n",
    "import re                           # 데이터 정규화 작업을 위하여 사용한 모듈"
   ]
  },
  {
   "cell_type": "markdown",
   "metadata": {},
   "source": [
    "---\n",
    "### 필요 변수 정의"
   ]
  },
  {
   "cell_type": "code",
   "execution_count": 3,
   "metadata": {
    "collapsed": true
   },
   "outputs": [],
   "source": [
    "# 사용할 document 리스트\n",
    "document_filenames = {0 : \"data/Beauty and the Beast.txt\",\n",
    "                      1 : \"data/Get Out.txt\",\n",
    "                      2 : \"data/Big Sick, The.txt\",\n",
    "                      3 : \"data/Guardians of the Galaxy Vol 2.txt\",\n",
    "                      4 : \"data/La La Land.txt\",\n",
    "                      5 : \"data/Logan.txt\",\n",
    "                      6 : \"data/War for the Planet of the Apes.txt\",\n",
    "                      7 : \"data/It.txt\",\n",
    "                      8 : \"data/Thor Ragnarok Script.txt\",\n",
    "                      9 : \"data/COCO.txt\"}\n",
    "\n",
    "prog = re.compile(r'^[a-zA-Z0-9]+$') # 정규화 문서를 term으로 구분할때 숫자와 문자만 있는 term을 사용하기 위하여 선언\n",
    "removal = 'a,able,about,across,after,all,almost,also,am,among,an,and,any,are,as,at,be,because,been,but,by,can,cannot,could,dear,did,do,does,either,else,ever,every,for,from,get,got,had,has,have,he,her,hers,him,his,how,however,i,if,in,into,is,it,its,just,least,let,like,likely,may,me,might,most,must,my,neither,no,nor,not,of,off,often,on,only,or,other,our,own,rather,said,say,says,she,should,since,so,some,than,that,the,their,them,then,there,these,they,this,tis,to,too,twas,us,wants,was,we,were,what,when,where,which,while,who,whom,why,will,with,would,yet,you,your'.split(\",\")\n",
    "# 제외할 단어 리스트\n",
    "\n",
    "N = len(document_filenames) # document 개수\n",
    " \n",
    "dictionary = set() # 전체 term을 담을 변수\n",
    "terms = defaultdict(dict) #각 term별로 문서 id와 토큰 개수를 저장하는 변수\n",
    "document_frequency = defaultdict(int) # 문서당 term의 빈도 수를 넣을 변수\n",
    "length = defaultdict(float) # 각 문서 vector의 유클리드 거리를 담을 변수\n"
   ]
  },
  {
   "cell_type": "code",
   "execution_count": null,
   "metadata": {
    "collapsed": true
   },
   "outputs": [],
   "source": []
  }
 ],
 "metadata": {
  "kernelspec": {
   "display_name": "Python 3",
   "language": "python",
   "name": "python3"
  },
  "language_info": {
   "codemirror_mode": {
    "name": "ipython",
    "version": 3
   },
   "file_extension": ".py",
   "mimetype": "text/x-python",
   "name": "python",
   "nbconvert_exporter": "python",
   "pygments_lexer": "ipython3",
   "version": "3.6.6"
  }
 },
 "nbformat": 4,
 "nbformat_minor": 2
}
